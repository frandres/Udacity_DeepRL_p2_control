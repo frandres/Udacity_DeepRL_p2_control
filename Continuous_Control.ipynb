{
 "cells": [
  {
   "cell_type": "markdown",
   "metadata": {},
   "source": [
    "# Continuous Control\n",
    "\n",
    "---\n",
    "\n",
    "You are welcome to use this coding environment to train your agent for the project.  Follow the instructions below to get started!\n",
    "\n",
    "### 1. Start the Environment\n",
    "\n",
    "Run the next code cell to install a few packages.  This line will take a few minutes to run!"
   ]
  },
  {
   "cell_type": "markdown",
   "metadata": {},
   "source": [
    "The environments corresponding to both versions of the environment are already saved in the Workspace and can be accessed at the file paths provided below.  \n",
    "\n",
    "Please select one of the two options below for loading the environment."
   ]
  },
  {
   "cell_type": "code",
   "execution_count": 1,
   "metadata": {},
   "outputs": [
    {
     "name": "stderr",
     "output_type": "stream",
     "text": [
      "INFO:unityagents:\n",
      "'Academy' started successfully!\n",
      "Unity Academy name: Academy\n",
      "        Number of Brains: 1\n",
      "        Number of External Brains : 1\n",
      "        Lesson number : 0\n",
      "        Reset Parameters :\n",
      "\t\tgoal_size -> 5.0\n",
      "\t\tgoal_speed -> 1.0\n",
      "Unity brain name: ReacherBrain\n",
      "        Number of Visual Observations (per agent): 0\n",
      "        Vector Observation space type: continuous\n",
      "        Vector Observation space size (per agent): 33\n",
      "        Number of stacked Vector Observation: 1\n",
      "        Vector Action space type: continuous\n",
      "        Vector Action space size (per agent): 4\n",
      "        Vector Action descriptions: , , , \n"
     ]
    }
   ],
   "source": [
    "from unityagents import UnityEnvironment\n",
    "import numpy as np\n",
    "\n",
    "# select this option to load version 1 (with a single agent) of the environment\n",
    "env = UnityEnvironment(file_name='./Reacher')\n",
    "\n",
    "# select this option to load version 2 (with 20 agents) of the environment\n",
    "# env = UnityEnvironment(file_name='/data/Reacher_Linux_NoVis/Reacher.x86_64')"
   ]
  },
  {
   "cell_type": "markdown",
   "metadata": {},
   "source": [
    "Environments contain **_brains_** which are responsible for deciding the actions of their associated agents. Here we check for the first brain available, and set it as the default brain we will be controlling from Python."
   ]
  },
  {
   "cell_type": "code",
   "execution_count": 2,
   "metadata": {},
   "outputs": [],
   "source": [
    "# get the default brain\n",
    "brain_name = env.brain_names[0]\n",
    "brain = env.brains[brain_name]"
   ]
  },
  {
   "cell_type": "markdown",
   "metadata": {},
   "source": [
    "### 2. Examine the State and Action Spaces\n",
    "\n",
    "Run the code cell below to print some information about the environment."
   ]
  },
  {
   "cell_type": "code",
   "execution_count": 3,
   "metadata": {},
   "outputs": [
    {
     "name": "stdout",
     "output_type": "stream",
     "text": [
      "Number of agents: 1\n",
      "Size of each action: 4\n",
      "There are 1 agents. Each observes a state with length: 33\n",
      "The state for the first agent looks like: [ 0.00000000e+00 -4.00000000e+00  0.00000000e+00  1.00000000e+00\n",
      " -0.00000000e+00 -0.00000000e+00 -4.37113883e-08  0.00000000e+00\n",
      "  0.00000000e+00  0.00000000e+00  0.00000000e+00  0.00000000e+00\n",
      "  0.00000000e+00  0.00000000e+00 -1.00000000e+01  0.00000000e+00\n",
      "  1.00000000e+00 -0.00000000e+00 -0.00000000e+00 -4.37113883e-08\n",
      "  0.00000000e+00  0.00000000e+00  0.00000000e+00  0.00000000e+00\n",
      "  0.00000000e+00  0.00000000e+00  5.75471878e+00 -1.00000000e+00\n",
      "  5.55726671e+00  0.00000000e+00  1.00000000e+00  0.00000000e+00\n",
      " -1.68164849e-01]\n"
     ]
    }
   ],
   "source": [
    "# reset the environment\n",
    "env_info = env.reset(train_mode=True)[brain_name]\n",
    "\n",
    "# number of agents\n",
    "num_agents = len(env_info.agents)\n",
    "print('Number of agents:', num_agents)\n",
    "\n",
    "# size of each action\n",
    "action_size = brain.vector_action_space_size\n",
    "print('Size of each action:', action_size)\n",
    "\n",
    "# examine the state space \n",
    "states = env_info.vector_observations\n",
    "state_size = states.shape[1]\n",
    "print('There are {} agents. Each observes a state with length: {}'.format(states.shape[0], state_size))\n",
    "print('The state for the first agent looks like:', states[0])"
   ]
  },
  {
   "cell_type": "markdown",
   "metadata": {},
   "source": [
    "### 3. Take Random Actions in the Environment\n",
    "\n",
    "In the next code cell, you will learn how to use the Python API to control the agent and receive feedback from the environment.\n",
    "\n",
    "Note that **in this coding environment, you will not be able to watch the agents while they are training**, and you should set `train_mode=True` to restart the environment."
   ]
  },
  {
   "cell_type": "code",
   "execution_count": 4,
   "metadata": {},
   "outputs": [
    {
     "name": "stdout",
     "output_type": "stream",
     "text": [
      "Total score (averaged over agents) this episode: 0.0\n"
     ]
    }
   ],
   "source": [
    "env_info = env.reset(train_mode=True)[brain_name]      # reset the environment    \n",
    "states = env_info.vector_observations                  # get the current state (for each agent)\n",
    "scores = np.zeros(num_agents)                          # initialize the score (for each agent)\n",
    "while True:\n",
    "    actions = np.random.randn(num_agents, action_size) # select an action (for each agent)\n",
    "    actions = np.clip(actions, -1, 1)                  # all actions between -1 and 1\n",
    "    env_info = env.step(actions)[brain_name]           # send all actions to tne environment\n",
    "    next_states = env_info.vector_observations         # get next state (for each agent)\n",
    "    rewards = env_info.rewards                         # get reward (for each agent)\n",
    "    dones = env_info.local_done                        # see if episode finished\n",
    "    scores += env_info.rewards                         # update the score (for each agent)\n",
    "    states = next_states                               # roll over states to next time step\n",
    "    if np.any(dones):                                  # exit loop if episode finished\n",
    "        break\n",
    "print('Total score (averaged over agents) this episode: {}'.format(np.mean(scores)))"
   ]
  },
  {
   "cell_type": "markdown",
   "metadata": {},
   "source": [
    "When finished, you can close the environment."
   ]
  },
  {
   "cell_type": "code",
   "execution_count": 5,
   "metadata": {},
   "outputs": [],
   "source": [
    "#env.close()"
   ]
  },
  {
   "cell_type": "markdown",
   "metadata": {},
   "source": [
    "### 4. It's Your Turn!\n",
    "\n",
    "Now it's your turn to train your own agent to solve the environment!  A few **important notes**:\n",
    "- When training the environment, set `train_mode=True`, so that the line for resetting the environment looks like the following:\n",
    "```python\n",
    "env_info = env.reset(train_mode=True)[brain_name]\n",
    "```\n",
    "- To structure your work, you're welcome to work directly in this Jupyter notebook, or you might like to start over with a new file!  You can see the list of files in the workspace by clicking on **_Jupyter_** in the top left corner of the notebook.\n",
    "- In this coding environment, you will not be able to watch the agents while they are training.  However, **_after training the agents_**, you can download the saved model weights to watch the agents on your own machine! "
   ]
  },
  {
   "cell_type": "code",
   "execution_count": 6,
   "metadata": {},
   "outputs": [],
   "source": [
    "from agents import DDPG_Agent\n",
    "\n",
    "import random\n",
    "import numpy as np\n",
    "def uniform_noise():\n",
    "    return random.random(0.5)-0.5\n",
    "\n",
    "agent_configs = [\n",
    "    ({\n",
    "     'batch_size':128,\n",
    "     'starting_theta':0.20,\n",
    "     'end_theta':0.15,\n",
    "     'factor_theta':0.999,\n",
    "     'critic_lr':1e-3,\n",
    "     'actor_lr': 1e-3,\n",
    "     'do_batch_norm':True,\n",
    "     'do_gradient_clipping_critic':True,\n",
    "     'noise_generation_function' : np.random.randn,\n",
    "     'description':'working_solution',},DDPG_Agent),\n",
    "    ({\n",
    "     'batch_size':128,\n",
    "     'starting_theta':0.20,\n",
    "     'end_theta':0.15,\n",
    "     'factor_theta':0.999,\n",
    "     'critic_lr':1e-3,\n",
    "     'actor_lr': 1e-3,\n",
    "     'do_batch_norm':True,\n",
    "     'do_gradient_clipping_critic':True,\n",
    "     'noise_generation_function' : random.random,\n",
    "     'description':'working_solution_uniform_non_negative_noise',},DDPG_Agent),\n",
    "    ({\n",
    "     'batch_size':128,\n",
    "     'starting_theta':0.20,\n",
    "     'end_theta':0.15,\n",
    "     'factor_theta':0.999,\n",
    "     'critic_lr':1e-3,\n",
    "     'actor_lr': 1e-3,\n",
    "     'do_batch_norm':True,\n",
    "     'do_gradient_clipping_critic':True,\n",
    "     'noise_generation_function' : lambda: uniform_noise,\n",
    "     'description':'working_solution_uniform_noise',},DDPG_Agent),\n",
    "    ({\n",
    "     'batch_size':128,\n",
    "     'starting_theta':0.20,\n",
    "     'end_theta':0.15,\n",
    "     'factor_theta':0.999,\n",
    "     'critic_lr':1e-4,\n",
    "     'actor_lr': 1e-3,\n",
    "     'do_batch_norm':True,\n",
    "     'do_gradient_clipping_critic':True,\n",
    "     'noise_generation_function' : np.random.randn,\n",
    "     'description':'working_solution_critic_lower_learning_rate',},DDPG_Agent),\n",
    "    ({\n",
    "     'batch_size':128,\n",
    "     'starting_theta':0.20,\n",
    "     'end_theta':0.15,\n",
    "     'factor_theta':0.999,\n",
    "     'critic_lr':1e-3,\n",
    "     'actor_lr': 1e-3,\n",
    "     'do_batch_norm':False,\n",
    "     'do_gradient_clipping_critic':True,\n",
    "     'noise_generation_function' : np.random.randn,\n",
    "     'description':'working_solution_no_batch_norm',},DDPG_Agent),\n",
    "    ({\n",
    "     'batch_size':128,\n",
    "     'starting_theta':0.20,\n",
    "     'end_theta':0.15,\n",
    "     'factor_theta':0.999,\n",
    "     'critic_lr':1e-3,\n",
    "     'actor_lr': 1e-3,\n",
    "     'do_batch_norm':True,\n",
    "     'do_gradient_clipping_critic':False,\n",
    "     'noise_generation_function' : np.random.randn,\n",
    "     'description':'working_solution_no_clipping',},DDPG_Agent)\n",
    "                    \n",
    "]"
   ]
  },
  {
   "cell_type": "code",
   "execution_count": 7,
   "metadata": {},
   "outputs": [],
   "source": [
    "# THIS IS USING STRANGE NOISE solved in ~ 600"
   ]
  },
  {
   "cell_type": "code",
   "execution_count": 8,
   "metadata": {
    "scrolled": true
   },
   "outputs": [
    {
     "name": "stdout",
     "output_type": "stream",
     "text": [
      "\n",
      "\n",
      "Running {'batch_size': 128, 'starting_theta': 0.2, 'end_theta': 0.15, 'factor_theta': 0.999, 'critic_lr': 0.001, 'actor_lr': 0.001, 'do_batch_norm': True, 'do_gradient_clipping_critic': True, 'noise_generation_function': <built-in method randn of numpy.random.mtrand.RandomState object at 0x7fe0a8bb7468>, 'description': 'working_solution'}\n",
      "Agent type <class 'agents.ddpg_agent.agent.Agent'>\n",
      "theta: 0.2\n",
      "theta: 0.1998\n",
      "Episode 1\tAverage Score: 0.00theta: 0.1996002\n",
      "Episode 2\tAverage Score: 0.00theta: 0.1994005998\n",
      "Episode 3\tAverage Score: 0.00theta: 0.1992011992002\n",
      "Episode 4\tAverage Score: 0.00theta: 0.1990019980009998\n",
      "Episode 5\tAverage Score: 0.00\n",
      "\n",
      "Running {'batch_size': 128, 'starting_theta': 0.2, 'end_theta': 0.15, 'factor_theta': 0.999, 'critic_lr': 0.001, 'actor_lr': 0.001, 'do_batch_norm': True, 'do_gradient_clipping_critic': True, 'noise_generation_function': <built-in method random of Random object at 0x7fe0a3846e18>, 'description': 'working_solution_uniform_non_negative_noise'}\n",
      "Agent type <class 'agents.ddpg_agent.agent.Agent'>\n",
      "theta: 0.2\n",
      "theta: 0.1998\n",
      "Episode 1\tAverage Score: 0.00theta: 0.1996002\n",
      "Episode 2\tAverage Score: 0.00theta: 0.1994005998\n",
      "Episode 3\tAverage Score: 0.00theta: 0.1992011992002\n",
      "Episode 4\tAverage Score: 0.00theta: 0.1990019980009998\n",
      "Episode 5\tAverage Score: 0.00\n",
      "\n",
      "Running {'batch_size': 128, 'starting_theta': 0.2, 'end_theta': 0.15, 'factor_theta': 0.999, 'critic_lr': 0.001, 'actor_lr': 0.001, 'do_batch_norm': True, 'do_gradient_clipping_critic': True, 'noise_generation_function': <function <lambda> at 0x7fe0a92e96a8>, 'description': 'working_solution_uniform_non_negative_noise'}\n",
      "Agent type <class 'agents.ddpg_agent.agent.Agent'>\n",
      "theta: 0.2\n",
      "theta: 0.1998\n"
     ]
    },
    {
     "ename": "TypeError",
     "evalue": "unsupported operand type(s) for *: 'float' and 'function'",
     "output_type": "error",
     "traceback": [
      "\u001b[0;31m---------------------------------------------------------------------------\u001b[0m",
      "\u001b[0;31mTypeError\u001b[0m                                 Traceback (most recent call last)",
      "\u001b[0;32m<ipython-input-8-65fc362d4cda>\u001b[0m in \u001b[0;36m<module>\u001b[0;34m\u001b[0m\n\u001b[1;32m     12\u001b[0m                        max_n_episodes=5)\n\u001b[1;32m     13\u001b[0m \u001b[0;34m\u001b[0m\u001b[0m\n\u001b[0;32m---> 14\u001b[0;31m     \u001b[0magent\u001b[0m \u001b[0;34m=\u001b[0m \u001b[0mtrainer\u001b[0m\u001b[0;34m.\u001b[0m\u001b[0mtrain_agent\u001b[0m\u001b[0;34m(\u001b[0m\u001b[0magent\u001b[0m\u001b[0;34m)\u001b[0m\u001b[0;34m\u001b[0m\u001b[0;34m\u001b[0m\u001b[0m\n\u001b[0m\u001b[1;32m     15\u001b[0m     trainer.save_scores(hyperparams,\n\u001b[1;32m     16\u001b[0m                         f'''./{hyperparams['description']}''')\n",
      "\u001b[0;32m~/Udacity_DeepRL_p2_navigation/trainer/trainer.py\u001b[0m in \u001b[0;36mtrain_agent\u001b[0;34m(self, agent)\u001b[0m\n\u001b[1;32m     51\u001b[0m             \u001b[0mscore\u001b[0m \u001b[0;34m=\u001b[0m \u001b[0;36m0\u001b[0m\u001b[0;34m\u001b[0m\u001b[0;34m\u001b[0m\u001b[0m\n\u001b[1;32m     52\u001b[0m             \u001b[0;32mfor\u001b[0m \u001b[0mt\u001b[0m \u001b[0;32min\u001b[0m \u001b[0mrange\u001b[0m\u001b[0;34m(\u001b[0m\u001b[0mself\u001b[0m\u001b[0;34m.\u001b[0m\u001b[0mmax_t\u001b[0m\u001b[0;34m)\u001b[0m\u001b[0;34m:\u001b[0m\u001b[0;34m\u001b[0m\u001b[0;34m\u001b[0m\u001b[0m\n\u001b[0;32m---> 53\u001b[0;31m                 \u001b[0maction\u001b[0m \u001b[0;34m=\u001b[0m \u001b[0magent\u001b[0m\u001b[0;34m.\u001b[0m\u001b[0mact\u001b[0m\u001b[0;34m(\u001b[0m\u001b[0mstate\u001b[0m\u001b[0;34m)\u001b[0m\u001b[0;34m\u001b[0m\u001b[0;34m\u001b[0m\u001b[0m\n\u001b[0m\u001b[1;32m     54\u001b[0m                 \u001b[0mnext_state\u001b[0m\u001b[0;34m,\u001b[0m \u001b[0mreward\u001b[0m\u001b[0;34m,\u001b[0m \u001b[0mdone\u001b[0m \u001b[0;34m=\u001b[0m \u001b[0mself\u001b[0m\u001b[0;34m.\u001b[0m\u001b[0menv_step\u001b[0m\u001b[0;34m(\u001b[0m\u001b[0maction\u001b[0m\u001b[0;34m)\u001b[0m\u001b[0;34m\u001b[0m\u001b[0;34m\u001b[0m\u001b[0m\n\u001b[1;32m     55\u001b[0m                 \u001b[0magent\u001b[0m\u001b[0;34m.\u001b[0m\u001b[0mstep\u001b[0m\u001b[0;34m(\u001b[0m\u001b[0mstate\u001b[0m\u001b[0;34m,\u001b[0m \u001b[0maction\u001b[0m\u001b[0;34m,\u001b[0m \u001b[0mreward\u001b[0m\u001b[0;34m,\u001b[0m \u001b[0mnext_state\u001b[0m\u001b[0;34m,\u001b[0m \u001b[0mdone\u001b[0m\u001b[0;34m)\u001b[0m\u001b[0;34m\u001b[0m\u001b[0;34m\u001b[0m\u001b[0m\n",
      "\u001b[0;32m~/Udacity_DeepRL_p2_navigation/agents/ddpg_agent/agent.py\u001b[0m in \u001b[0;36mact\u001b[0;34m(self, state, training)\u001b[0m\n\u001b[1;32m    137\u001b[0m         \u001b[0mself\u001b[0m\u001b[0;34m.\u001b[0m\u001b[0mactor_local\u001b[0m\u001b[0;34m.\u001b[0m\u001b[0mtrain\u001b[0m\u001b[0;34m(\u001b[0m\u001b[0;34m)\u001b[0m\u001b[0;34m\u001b[0m\u001b[0;34m\u001b[0m\u001b[0m\n\u001b[1;32m    138\u001b[0m         \u001b[0;32mif\u001b[0m \u001b[0mtraining\u001b[0m\u001b[0;34m:\u001b[0m\u001b[0;34m\u001b[0m\u001b[0;34m\u001b[0m\u001b[0m\n\u001b[0;32m--> 139\u001b[0;31m             \u001b[0moutput_actions\u001b[0m \u001b[0;34m+=\u001b[0m \u001b[0mself\u001b[0m\u001b[0;34m.\u001b[0m\u001b[0mnoise\u001b[0m\u001b[0;34m.\u001b[0m\u001b[0msample\u001b[0m\u001b[0;34m(\u001b[0m\u001b[0;34m)\u001b[0m\u001b[0;34m\u001b[0m\u001b[0;34m\u001b[0m\u001b[0m\n\u001b[0m\u001b[1;32m    140\u001b[0m \u001b[0;34m\u001b[0m\u001b[0m\n\u001b[1;32m    141\u001b[0m         \u001b[0;32mreturn\u001b[0m \u001b[0mnp\u001b[0m\u001b[0;34m.\u001b[0m\u001b[0mclip\u001b[0m\u001b[0;34m(\u001b[0m\u001b[0moutput_actions\u001b[0m\u001b[0;34m,\u001b[0m\u001b[0;34m-\u001b[0m\u001b[0;36m1\u001b[0m\u001b[0;34m,\u001b[0m\u001b[0;36m1\u001b[0m\u001b[0;34m)\u001b[0m\u001b[0;34m\u001b[0m\u001b[0;34m\u001b[0m\u001b[0m\n",
      "\u001b[0;32m~/Udacity_DeepRL_p2_navigation/agents/ddpg_agent/agent.py\u001b[0m in \u001b[0;36msample\u001b[0;34m(self)\u001b[0m\n\u001b[1;32m    233\u001b[0m         \u001b[0;34m\"\"\"Update internal state and return it as a noise sample.\"\"\"\u001b[0m\u001b[0;34m\u001b[0m\u001b[0;34m\u001b[0m\u001b[0m\n\u001b[1;32m    234\u001b[0m         \u001b[0mx\u001b[0m \u001b[0;34m=\u001b[0m \u001b[0mself\u001b[0m\u001b[0;34m.\u001b[0m\u001b[0mstate\u001b[0m\u001b[0;34m\u001b[0m\u001b[0;34m\u001b[0m\u001b[0m\n\u001b[0;32m--> 235\u001b[0;31m         \u001b[0mdx\u001b[0m \u001b[0;34m=\u001b[0m \u001b[0mself\u001b[0m\u001b[0;34m.\u001b[0m\u001b[0mtheta\u001b[0m \u001b[0;34m*\u001b[0m \u001b[0;34m(\u001b[0m\u001b[0mself\u001b[0m\u001b[0;34m.\u001b[0m\u001b[0mmu\u001b[0m \u001b[0;34m-\u001b[0m \u001b[0mx\u001b[0m\u001b[0;34m)\u001b[0m \u001b[0;34m+\u001b[0m \u001b[0mself\u001b[0m\u001b[0;34m.\u001b[0m\u001b[0msigma\u001b[0m \u001b[0;34m*\u001b[0m \u001b[0mnp\u001b[0m\u001b[0;34m.\u001b[0m\u001b[0marray\u001b[0m\u001b[0;34m(\u001b[0m\u001b[0;34m[\u001b[0m\u001b[0mself\u001b[0m\u001b[0;34m.\u001b[0m\u001b[0mnoise_func\u001b[0m\u001b[0;34m(\u001b[0m\u001b[0;34m)\u001b[0m \u001b[0;32mfor\u001b[0m \u001b[0mi\u001b[0m \u001b[0;32min\u001b[0m \u001b[0mrange\u001b[0m\u001b[0;34m(\u001b[0m\u001b[0mlen\u001b[0m\u001b[0;34m(\u001b[0m\u001b[0mx\u001b[0m\u001b[0;34m)\u001b[0m\u001b[0;34m)\u001b[0m\u001b[0;34m]\u001b[0m\u001b[0;34m)\u001b[0m\u001b[0;34m\u001b[0m\u001b[0;34m\u001b[0m\u001b[0m\n\u001b[0m\u001b[1;32m    236\u001b[0m         \u001b[0mself\u001b[0m\u001b[0;34m.\u001b[0m\u001b[0mstate\u001b[0m \u001b[0;34m=\u001b[0m \u001b[0mx\u001b[0m \u001b[0;34m+\u001b[0m \u001b[0mdx\u001b[0m\u001b[0;34m\u001b[0m\u001b[0;34m\u001b[0m\u001b[0m\n\u001b[1;32m    237\u001b[0m         \u001b[0;32mreturn\u001b[0m \u001b[0mself\u001b[0m\u001b[0;34m.\u001b[0m\u001b[0mstate\u001b[0m\u001b[0;34m\u001b[0m\u001b[0;34m\u001b[0m\u001b[0m\n",
      "\u001b[0;31mTypeError\u001b[0m: unsupported operand type(s) for *: 'float' and 'function'"
     ]
    }
   ],
   "source": [
    "from trainer.trainer import AgentTrainer\n",
    "#using (random.random()-0.5)*2\n",
    "for hyperparams, Agent in agent_configs:\n",
    "    print('\\n\\nRunning',hyperparams)\n",
    "    print('Agent type',Agent)\n",
    "    agent = Agent(state_size, \n",
    "                  action_size,\n",
    "                  hyperparams)\n",
    "    \n",
    "    trainer = AgentTrainer(env,\n",
    "                       max_t=10,\n",
    "                       max_n_episodes=5)\n",
    "    \n",
    "    agent = trainer.train_agent(agent)\n",
    "    trainer.save_scores(hyperparams,\n",
    "                        f'''./{hyperparams['description']}''')"
   ]
  },
  {
   "cell_type": "code",
   "execution_count": null,
   "metadata": {},
   "outputs": [],
   "source": [
    "import numpy as np\n",
    "~np.isnan(np.array([1,2,3,4])).all()"
   ]
  },
  {
   "cell_type": "code",
   "execution_count": null,
   "metadata": {},
   "outputs": [],
   "source": [
    "from trainer.trainer import AgentTrainer\n",
    "for hyperparams, Agent in agent_configs:\n",
    "    print('\\n\\nRunning',hyperparams)\n",
    "    print('Agent type',Agent)\n",
    "    agent = Agent(state_size, \n",
    "                  action_size,\n",
    "                  hyperparams)\n",
    "    \n",
    "    trainer = AgentTrainer(env,\n",
    "                       max_t=1000,\n",
    "                       max_n_episodes=2000)\n",
    "    \n",
    "    agent = trainer.train_agent(agent)"
   ]
  },
  {
   "cell_type": "code",
   "execution_count": null,
   "metadata": {},
   "outputs": [],
   "source": [
    "from trainer.trainer import AgentTrainer\n",
    "for hyperparams, Agent in agent_configs:\n",
    "    print('\\n\\nRunning',hyperparams)\n",
    "    print('Agent type',Agent)\n",
    "    agent = Agent(state_size, \n",
    "                  action_size,\n",
    "                  hyperparams)\n",
    "    \n",
    "    trainer = AgentTrainer(env,\n",
    "                       max_t=1000,\n",
    "                       max_n_episodes=2000)\n",
    "    \n",
    "    agent = trainer.train_agent(agent)"
   ]
  },
  {
   "cell_type": "code",
   "execution_count": null,
   "metadata": {
    "scrolled": false
   },
   "outputs": [],
   "source": [
    "from trainer.trainer import AgentTrainer\n",
    "for hyperparams, Agent in agent_configs:\n",
    "    print('\\n\\nRunning',hyperparams)\n",
    "    print('Agent type',Agent)\n",
    "    agent = Agent(state_size, \n",
    "                  action_size,\n",
    "                  hyperparams)\n",
    "    \n",
    "    trainer = AgentTrainer(env,\n",
    "                       max_t=1000,\n",
    "                       max_n_episodes=2000)\n",
    "    \n",
    "    agent = trainer.train_agent(agent)"
   ]
  },
  {
   "cell_type": "code",
   "execution_count": null,
   "metadata": {},
   "outputs": [],
   "source": [
    "from trainer.trainer import AgentTrainer\n",
    "for hyperparams, Agent in agent_configs:\n",
    "    print('\\n\\nRunning',hyperparams)\n",
    "    print('Agent type',Agent)\n",
    "    agent = Agent(state_size, \n",
    "                  action_size,\n",
    "                  hyperparams)\n",
    "    \n",
    "    trainer = AgentTrainer(env,\n",
    "                       max_t=1000,\n",
    "                       max_n_episodes=2000)\n",
    "    \n",
    "    agent = trainer.train_agent(agent)"
   ]
  },
  {
   "cell_type": "code",
   "execution_count": null,
   "metadata": {},
   "outputs": [],
   "source": [
    "from agents import DDPG_Agent\n",
    "agent_configs = [\n",
    "#                    ({'critic_state_leg_topology':[32,32,8],\n",
    "#                      'critic_action_leg_topology':[8],\n",
    "#                      'critic_state_action_leg_topology':[16,4],\n",
    "#                      'actor_topology':[32,32,8],\n",
    "#                      'batch_size':16,\n",
    "#                      'beta_start':0,\n",
    "#                      'beta_end':0,\n",
    "#                      'beta_factor':0,\n",
    "#                      'per_alpha':0,\n",
    "#                      'critic_lr':5e-4,\n",
    "#                      'actor_lr':5e-4,\n",
    "#                      'description':'1'},DDPG_Agent),\n",
    "#                     ({'critic_state_leg_topology':[32,16],\n",
    "#                      'critic_action_leg_topology':[],\n",
    "#                      'critic_state_action_leg_topology':[16],\n",
    "#                      'actor_topology':[32,32,8],\n",
    "#                      'batch_size':16,\n",
    "#                      'beta_start':0,\n",
    "#                      'beta_end':0,\n",
    "#                      'beta_factor':0,\n",
    "#                      'per_alpha':0,\n",
    "#                      'critic_lr':5e-4,\n",
    "#                      'actor_lr':5e-4,\n",
    "#                      'description':'Simplified batch'},DDPG_Agent),\n",
    "#                     ({'critic_state_leg_topology':[32,16],\n",
    "#                      'critic_action_leg_topology':[],\n",
    "#                      'critic_state_action_leg_topology':[16],\n",
    "#                      'actor_topology':[32,32,8],\n",
    "#                      'batch_size':16,\n",
    "#                      'beta_start':0.5,\n",
    "#                      'beta_end':1,\n",
    "#                      'beta_factor':1.00003,\n",
    "#                      'per_alpha':0.25,\n",
    "#                      'critic_lr':5e-4,\n",
    "#                      'actor_lr':5e-4,\n",
    "#                      'description':'Simplified batch x2 weak prioritization'},DDPG_Agent),\n",
    "    \n",
    "                    ({'critic_state_leg_topology':[32,16],\n",
    "                     'critic_action_leg_topology':[],\n",
    "                     'critic_state_action_leg_topology':[16],\n",
    "                     'actor_topology':[32,32,8],\n",
    "                     'batch_size':16,\n",
    "                     'beta_start':0.5,\n",
    "                     'beta_end':1,\n",
    "                     'beta_factor':1.00003,\n",
    "                     'per_alpha':0.75,\n",
    "                     'critic_lr':5e-4,\n",
    "                     'actor_lr':5e-4,\n",
    "                     'description':'Simplified batch x2 high prioritization'},DDPG_Agent),\n",
    "    \n",
    "                   ({'critic_state_leg_topology':[16,8],\n",
    "                     'critic_action_leg_topology':[],\n",
    "                     'critic_state_action_leg_topology':[8],\n",
    "                     'actor_topology':[16,8],\n",
    "                     'batch_size':32,\n",
    "                     'beta_start':0,\n",
    "                     'beta_end':0,\n",
    "                     'beta_factor':0,\n",
    "                     'per_alpha':0,\n",
    "                     'critic_lr':5e-4,\n",
    "                     'actor_lr':5e-4,\n",
    "                     'description':'Simplified v2 batch x2'},DDPG_Agent),\n",
    "    \n",
    "#                     ({'critic_state_leg_topology':[64,32,16],\n",
    "#                      'critic_action_leg_topology':[16],\n",
    "#                      'critic_state_action_leg_topology':[32],\n",
    "#                      'actor_topology':[32,32,8],\n",
    "#                      'batch_size':16,\n",
    "#                      'beta_start':0,\n",
    "#                      'beta_end':0,\n",
    "#                      'beta_factor':0,\n",
    "#                      'per_alpha':0,\n",
    "#                      'critic_lr':5e-4,\n",
    "#                      'actor_lr':5e-4,\n",
    "#                      'description':'Complex batch'},DDPG_Agent),\n",
    "]"
   ]
  },
  {
   "cell_type": "code",
   "execution_count": null,
   "metadata": {},
   "outputs": [],
   "source": [
    "from trainer.trainer import AgentTrainer\n",
    "for hyperparams, Agent in agent_configs:\n",
    "    print('\\n\\nRunning',hyperparams)\n",
    "    print('Agent type',Agent)\n",
    "    agent = Agent(state_size, \n",
    "                  action_size,\n",
    "                  hyperparams)\n",
    "    \n",
    "    trainer = AgentTrainer(env,\n",
    "                       max_t=1000,\n",
    "                       max_n_episodes=2000)\n",
    "    \n",
    "    agent = trainer.train_agent(agent)"
   ]
  },
  {
   "cell_type": "code",
   "execution_count": null,
   "metadata": {},
   "outputs": [],
   "source": [
    "agent.noise.state"
   ]
  },
  {
   "cell_type": "code",
   "execution_count": null,
   "metadata": {
    "scrolled": false
   },
   "outputs": [],
   "source": [
    "from trainer.trainer import AgentTrainer\n",
    "for hyperparams, Agent in agent_configs:\n",
    "    print('\\n\\nRunning',hyperparams)\n",
    "    print('Agent type',Agent)\n",
    "    agent = Agent(state_size, \n",
    "                  action_size,\n",
    "                  hyperparams)\n",
    "    \n",
    "    trainer = AgentTrainer(env,\n",
    "                       max_t=1000,\n",
    "                       max_n_episodes=2000)\n",
    "    \n",
    "    agent = trainer.train_agent(agent)"
   ]
  },
  {
   "cell_type": "code",
   "execution_count": null,
   "metadata": {},
   "outputs": [],
   "source": [
    "t.detach().numpy()"
   ]
  },
  {
   "cell_type": "code",
   "execution_count": null,
   "metadata": {},
   "outputs": [],
   "source": [
    "np.clip(np.array([1,2,3]),1,2)"
   ]
  },
  {
   "cell_type": "code",
   "execution_count": null,
   "metadata": {},
   "outputs": [],
   "source": []
  }
 ],
 "metadata": {
  "kernelspec": {
   "display_name": "drlnd",
   "language": "python",
   "name": "drlnd"
  },
  "language_info": {
   "codemirror_mode": {
    "name": "ipython",
    "version": 3
   },
   "file_extension": ".py",
   "mimetype": "text/x-python",
   "name": "python",
   "nbconvert_exporter": "python",
   "pygments_lexer": "ipython3",
   "version": "3.6.13"
  }
 },
 "nbformat": 4,
 "nbformat_minor": 2
}

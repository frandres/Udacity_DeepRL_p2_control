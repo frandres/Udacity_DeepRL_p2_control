{
 "cells": [
  {
   "cell_type": "markdown",
   "metadata": {},
   "source": [
    "# Continuous Control\n",
    "\n",
    "---\n",
    "\n",
    "You are welcome to use this coding environment to train your agent for the project.  Follow the instructions below to get started!\n",
    "\n",
    "### 1. Start the Environment\n",
    "\n",
    "Run the next code cell to install a few packages.  This line will take a few minutes to run!"
   ]
  },
  {
   "cell_type": "markdown",
   "metadata": {},
   "source": [
    "The environments corresponding to both versions of the environment are already saved in the Workspace and can be accessed at the file paths provided below.  \n",
    "\n",
    "Please select one of the two options below for loading the environment."
   ]
  },
  {
   "cell_type": "code",
   "execution_count": 1,
   "metadata": {},
   "outputs": [
    {
     "name": "stderr",
     "output_type": "stream",
     "text": [
      "INFO:unityagents:\n",
      "'Academy' started successfully!\n",
      "Unity Academy name: Academy\n",
      "        Number of Brains: 1\n",
      "        Number of External Brains : 1\n",
      "        Lesson number : 0\n",
      "        Reset Parameters :\n",
      "\t\tgoal_speed -> 1.0\n",
      "\t\tgoal_size -> 5.0\n",
      "Unity brain name: ReacherBrain\n",
      "        Number of Visual Observations (per agent): 0\n",
      "        Vector Observation space type: continuous\n",
      "        Vector Observation space size (per agent): 33\n",
      "        Number of stacked Vector Observation: 1\n",
      "        Vector Action space type: continuous\n",
      "        Vector Action space size (per agent): 4\n",
      "        Vector Action descriptions: , , , \n"
     ]
    }
   ],
   "source": [
    "from unityagents import UnityEnvironment\n",
    "import numpy as np\n",
    "\n",
    "# select this option to load version 1 (with a single agent) of the environment\n",
    "env = UnityEnvironment(file_name='./Reacher')\n",
    "\n",
    "# select this option to load version 2 (with 20 agents) of the environment\n",
    "# env = UnityEnvironment(file_name='/data/Reacher_Linux_NoVis/Reacher.x86_64')"
   ]
  },
  {
   "cell_type": "markdown",
   "metadata": {},
   "source": [
    "Environments contain **_brains_** which are responsible for deciding the actions of their associated agents. Here we check for the first brain available, and set it as the default brain we will be controlling from Python."
   ]
  },
  {
   "cell_type": "code",
   "execution_count": 2,
   "metadata": {},
   "outputs": [],
   "source": [
    "# get the default brain\n",
    "brain_name = env.brain_names[0]\n",
    "brain = env.brains[brain_name]"
   ]
  },
  {
   "cell_type": "markdown",
   "metadata": {},
   "source": [
    "### 2. Examine the State and Action Spaces\n",
    "\n",
    "Run the code cell below to print some information about the environment."
   ]
  },
  {
   "cell_type": "code",
   "execution_count": 3,
   "metadata": {},
   "outputs": [
    {
     "name": "stdout",
     "output_type": "stream",
     "text": [
      "Number of agents: 1\n",
      "Size of each action: 4\n",
      "There are 1 agents. Each observes a state with length: 33\n",
      "The state for the first agent looks like: [ 0.00000000e+00 -4.00000000e+00  0.00000000e+00  1.00000000e+00\n",
      " -0.00000000e+00 -0.00000000e+00 -4.37113883e-08  0.00000000e+00\n",
      "  0.00000000e+00  0.00000000e+00  0.00000000e+00  0.00000000e+00\n",
      "  0.00000000e+00  0.00000000e+00 -1.00000000e+01  0.00000000e+00\n",
      "  1.00000000e+00 -0.00000000e+00 -0.00000000e+00 -4.37113883e-08\n",
      "  0.00000000e+00  0.00000000e+00  0.00000000e+00  0.00000000e+00\n",
      "  0.00000000e+00  0.00000000e+00  5.75471878e+00 -1.00000000e+00\n",
      "  5.55726671e+00  0.00000000e+00  1.00000000e+00  0.00000000e+00\n",
      " -1.68164849e-01]\n"
     ]
    }
   ],
   "source": [
    "# reset the environment\n",
    "env_info = env.reset(train_mode=True)[brain_name]\n",
    "\n",
    "# number of agents\n",
    "num_agents = len(env_info.agents)\n",
    "print('Number of agents:', num_agents)\n",
    "\n",
    "# size of each action\n",
    "action_size = brain.vector_action_space_size\n",
    "print('Size of each action:', action_size)\n",
    "\n",
    "# examine the state space \n",
    "states = env_info.vector_observations\n",
    "state_size = states.shape[1]\n",
    "print('There are {} agents. Each observes a state with length: {}'.format(states.shape[0], state_size))\n",
    "print('The state for the first agent looks like:', states[0])"
   ]
  },
  {
   "cell_type": "markdown",
   "metadata": {},
   "source": [
    "### 3. Take Random Actions in the Environment\n",
    "\n",
    "In the next code cell, you will learn how to use the Python API to control the agent and receive feedback from the environment.\n",
    "\n",
    "Note that **in this coding environment, you will not be able to watch the agents while they are training**, and you should set `train_mode=True` to restart the environment."
   ]
  },
  {
   "cell_type": "code",
   "execution_count": 4,
   "metadata": {},
   "outputs": [
    {
     "name": "stdout",
     "output_type": "stream",
     "text": [
      "Total score (averaged over agents) this episode: 0.0\n"
     ]
    }
   ],
   "source": [
    "env_info = env.reset(train_mode=True)[brain_name]      # reset the environment    \n",
    "states = env_info.vector_observations                  # get the current state (for each agent)\n",
    "scores = np.zeros(num_agents)                          # initialize the score (for each agent)\n",
    "while True:\n",
    "    actions = np.random.randn(num_agents, action_size) # select an action (for each agent)\n",
    "    actions = np.clip(actions, -1, 1)                  # all actions between -1 and 1\n",
    "    env_info = env.step(actions)[brain_name]           # send all actions to tne environment\n",
    "    next_states = env_info.vector_observations         # get next state (for each agent)\n",
    "    rewards = env_info.rewards                         # get reward (for each agent)\n",
    "    dones = env_info.local_done                        # see if episode finished\n",
    "    scores += env_info.rewards                         # update the score (for each agent)\n",
    "    states = next_states                               # roll over states to next time step\n",
    "    if np.any(dones):                                  # exit loop if episode finished\n",
    "        break\n",
    "print('Total score (averaged over agents) this episode: {}'.format(np.mean(scores)))"
   ]
  },
  {
   "cell_type": "markdown",
   "metadata": {},
   "source": [
    "When finished, you can close the environment."
   ]
  },
  {
   "cell_type": "code",
   "execution_count": 5,
   "metadata": {},
   "outputs": [],
   "source": [
    "#env.close()"
   ]
  },
  {
   "cell_type": "markdown",
   "metadata": {},
   "source": [
    "### 4. It's Your Turn!\n",
    "\n",
    "Now it's your turn to train your own agent to solve the environment!  A few **important notes**:\n",
    "- When training the environment, set `train_mode=True`, so that the line for resetting the environment looks like the following:\n",
    "```python\n",
    "env_info = env.reset(train_mode=True)[brain_name]\n",
    "```\n",
    "- To structure your work, you're welcome to work directly in this Jupyter notebook, or you might like to start over with a new file!  You can see the list of files in the workspace by clicking on **_Jupyter_** in the top left corner of the notebook.\n",
    "- In this coding environment, you will not be able to watch the agents while they are training.  However, **_after training the agents_**, you can download the saved model weights to watch the agents on your own machine! "
   ]
  },
  {
   "cell_type": "code",
   "execution_count": 6,
   "metadata": {},
   "outputs": [],
   "source": [
    "from agents import DDPG_Agent\n",
    "agent_configs = [\n",
    "    ({'critic_state_leg_topology':[256],\n",
    "                     'critic_action_leg_topology':[],\n",
    "                     'critic_state_action_leg_topology':[128],\n",
    "                     'actor_topology':[256,128],\n",
    "                     'batch_size':128,\n",
    "                     'starting_theta':0.20,\n",
    "                     'end_theta':0.15,\n",
    "                     'factor_theta':0.999,\n",
    "                     'critic_lr':1e-3,\n",
    "                     'actor_lr':1e-3,\n",
    "                     'description':'Wide batch x2'},DDPG_Agent),\n",
    "                    \n",
    "]"
   ]
  },
  {
   "cell_type": "code",
   "execution_count": 7,
   "metadata": {},
   "outputs": [
    {
     "ename": "SyntaxError",
     "evalue": "invalid syntax (<ipython-input-7-858cfb70b92a>, line 1)",
     "output_type": "error",
     "traceback": [
      "\u001b[0;36m  File \u001b[0;32m\"<ipython-input-7-858cfb70b92a>\"\u001b[0;36m, line \u001b[0;32m1\u001b[0m\n\u001b[0;31m    THIS IS USING STRANGE NOISE\u001b[0m\n\u001b[0m          ^\u001b[0m\n\u001b[0;31mSyntaxError\u001b[0m\u001b[0;31m:\u001b[0m invalid syntax\n"
     ]
    }
   ],
   "source": [
    "# THIS IS USING STRANGE NOISE solved in ~ 600"
   ]
  },
  {
   "cell_type": "code",
   "execution_count": null,
   "metadata": {
    "scrolled": true
   },
   "outputs": [
    {
     "name": "stdout",
     "output_type": "stream",
     "text": [
      "\n",
      "\n",
      "Running {'critic_state_leg_topology': [256], 'critic_action_leg_topology': [], 'critic_state_action_leg_topology': [128], 'actor_topology': [256, 128], 'batch_size': 64, 'beta_start': 0, 'beta_end': 0, 'beta_factor': 1.0001, 'per_alpha': 0, 'critic_lr': 0.0001, 'actor_lr': 0.001, 'description': 'Wide batch x2'}\n",
      "Agent type <class 'agents.ddpg_agent.agent.Agent'>\n",
      "theta: 0.2\n",
      "theta: 0.1998\n"
     ]
    },
    {
     "name": "stderr",
     "output_type": "stream",
     "text": [
      "/Users/franciscorodriguezdrumond/Udacity_DeepRL_p2_navigation/agents/ddpg_agent/agent.py:217: UserWarning: torch.nn.utils.clip_grad_norm is now deprecated in favor of torch.nn.utils.clip_grad_norm_.\n",
      "  torch.nn.utils.clip_grad_norm(self.critic_local.parameters(), 1)\n"
     ]
    },
    {
     "name": "stdout",
     "output_type": "stream",
     "text": [
      "Episode 1\tAverage Score: 0.84theta: 0.1996002\n",
      "Episode 2\tAverage Score: 0.46theta: 0.1994005998\n",
      "Episode 3\tAverage Score: 0.36theta: 0.1992011992002\n",
      "Episode 4\tAverage Score: 0.46theta: 0.1990019980009998\n",
      "Episode 5\tAverage Score: 0.37theta: 0.1988029960029988\n",
      "Episode 6\tAverage Score: 0.32theta: 0.1986041930069958\n",
      "Episode 7\tAverage Score: 0.35theta: 0.19840558881398881\n",
      "Episode 8\tAverage Score: 0.34theta: 0.19820718322517483\n",
      "Episode 9\tAverage Score: 0.32theta: 0.19800897604194967\n",
      "Episode 10\tAverage Score: 0.33theta: 0.19781096706590773\n",
      "Episode 11\tAverage Score: 0.34theta: 0.1976131560988418\n",
      "Episode 12\tAverage Score: 0.35theta: 0.19741554294274297\n",
      "Episode 13\tAverage Score: 0.35theta: 0.1972181273998002\n",
      "Episode 14\tAverage Score: 0.42theta: 0.1970209092724004\n",
      "Episode 15\tAverage Score: 0.45theta: 0.196823888363128\n",
      "Episode 16\tAverage Score: 0.43theta: 0.19662706447476488\n",
      "Episode 17\tAverage Score: 0.41theta: 0.19643043741029012\n",
      "Episode 18\tAverage Score: 0.44theta: 0.19623400697287982\n",
      "Episode 19\tAverage Score: 0.47theta: 0.19603777296590694\n",
      "Episode 20\tAverage Score: 0.49theta: 0.19584173519294104\n",
      "Episode 21\tAverage Score: 0.48theta: 0.1956458934577481\n",
      "Episode 22\tAverage Score: 0.59theta: 0.19545024756429036\n",
      "Episode 23\tAverage Score: 0.60theta: 0.19525479731672607\n",
      "Episode 24\tAverage Score: 0.63theta: 0.19505954251940935\n",
      "Episode 25\tAverage Score: 0.63theta: 0.19486448297688994\n",
      "Episode 26\tAverage Score: 0.64theta: 0.19466961849391304\n",
      "Episode 27\tAverage Score: 0.66theta: 0.19447494887541913\n",
      "Episode 28\tAverage Score: 0.66theta: 0.1942804739265437\n",
      "Episode 29\tAverage Score: 0.68theta: 0.19408619345261716\n",
      "Episode 30\tAverage Score: 0.77theta: 0.19389210725916453\n",
      "Episode 31\tAverage Score: 0.83theta: 0.19369821515190536\n",
      "Episode 32\tAverage Score: 0.86theta: 0.19350451693675344\n",
      "Episode 33\tAverage Score: 0.95theta: 0.19331101241981669\n",
      "Episode 34\tAverage Score: 0.97theta: 0.19311770140739687\n",
      "Episode 35\tAverage Score: 1.02theta: 0.19292458370598947\n",
      "Episode 36\tAverage Score: 1.03theta: 0.1927316591222835\n",
      "Episode 37\tAverage Score: 1.04theta: 0.1925389274631612\n",
      "Episode 38\tAverage Score: 1.06theta: 0.19234638853569805\n",
      "Episode 39\tAverage Score: 1.06theta: 0.19215404214716236\n",
      "Episode 40\tAverage Score: 1.11theta: 0.1919618881050152\n",
      "Episode 41\tAverage Score: 1.10theta: 0.19176992621691016\n",
      "Episode 42\tAverage Score: 1.14theta: 0.19157815629069325\n",
      "Episode 43\tAverage Score: 1.17theta: 0.19138657813440255\n",
      "Episode 44\tAverage Score: 1.17theta: 0.19119519155626816\n",
      "Episode 45\tAverage Score: 1.20theta: 0.19100399636471188\n",
      "Episode 46\tAverage Score: 1.19theta: 0.19081299236834717\n",
      "Episode 47\tAverage Score: 1.17theta: 0.19062217937597883\n",
      "Episode 48\tAverage Score: 1.20theta: 0.19043155719660285\n",
      "Episode 49\tAverage Score: 1.19theta: 0.19024112563940623\n",
      "Episode 50\tAverage Score: 1.22theta: 0.19005088451376684\n",
      "Episode 51\tAverage Score: 1.21theta: 0.18986083362925307\n",
      "Episode 52\tAverage Score: 1.20theta: 0.1896709727956238\n",
      "Episode 53\tAverage Score: 1.21theta: 0.18948130182282819\n",
      "Episode 54\tAverage Score: 1.23theta: 0.18929182052100535\n",
      "Episode 55\tAverage Score: 1.22theta: 0.18910252870048436\n",
      "Episode 56\tAverage Score: 1.25theta: 0.18891342617178386\n",
      "Episode 57\tAverage Score: 1.27theta: 0.18872451274561208\n",
      "Episode 58\tAverage Score: 1.27theta: 0.18853578823286646\n",
      "Episode 59\tAverage Score: 1.26theta: 0.1883472524446336\n",
      "Episode 60\tAverage Score: 1.27theta: 0.18815890519218897\n",
      "Episode 61\tAverage Score: 1.27theta: 0.18797074628699678\n",
      "Episode 62\tAverage Score: 1.28theta: 0.1877827755407098\n",
      "Episode 63\tAverage Score: 1.29theta: 0.18759499276516908\n",
      "Episode 64\tAverage Score: 1.28theta: 0.18740739777240392\n",
      "Episode 65\tAverage Score: 1.28theta: 0.18721999037463152\n",
      "Episode 66\tAverage Score: 1.28theta: 0.1870327703842569\n",
      "Episode 67\tAverage Score: 1.29theta: 0.18684573761387263\n",
      "Episode 68\tAverage Score: 1.32theta: 0.18665889187625875\n",
      "Episode 69\tAverage Score: 1.33theta: 0.1864722329843825\n",
      "Episode 70\tAverage Score: 1.37theta: 0.18628576075139813\n",
      "Episode 71\tAverage Score: 1.40theta: 0.18609947499064675\n",
      "Episode 72\tAverage Score: 1.40theta: 0.1859133755156561\n",
      "Episode 73\tAverage Score: 1.44theta: 0.18572746214014044\n",
      "Episode 74\tAverage Score: 1.43theta: 0.1855417346780003\n",
      "Episode 75\tAverage Score: 1.46theta: 0.1853561929433223\n",
      "Episode 76\tAverage Score: 1.47theta: 0.185170836750379\n",
      "Episode 77\tAverage Score: 1.50theta: 0.1849856659136286\n",
      "Episode 78\tAverage Score: 1.50theta: 0.18480068024771498\n"
     ]
    }
   ],
   "source": [
    "from trainer.trainer import AgentTrainer\n",
    "#using (random.random()-0.5)*2\n",
    "for hyperparams, Agent in agent_configs:\n",
    "    print('\\n\\nRunning',hyperparams)\n",
    "    print('Agent type',Agent)\n",
    "    agent = Agent(state_size, \n",
    "                  action_size,\n",
    "                  hyperparams)\n",
    "    \n",
    "    trainer = AgentTrainer(env,\n",
    "                       max_t=1000,\n",
    "                       max_n_episodes=2000)\n",
    "    \n",
    "    agent = trainer.train_agent(agent)"
   ]
  },
  {
   "cell_type": "code",
   "execution_count": null,
   "metadata": {},
   "outputs": [],
   "source": [
    "import numpy as np\n",
    "~np.isnan(np.array([1,2,3,4])).all()"
   ]
  },
  {
   "cell_type": "code",
   "execution_count": null,
   "metadata": {},
   "outputs": [],
   "source": [
    "from trainer.trainer import AgentTrainer\n",
    "for hyperparams, Agent in agent_configs:\n",
    "    print('\\n\\nRunning',hyperparams)\n",
    "    print('Agent type',Agent)\n",
    "    agent = Agent(state_size, \n",
    "                  action_size,\n",
    "                  hyperparams)\n",
    "    \n",
    "    trainer = AgentTrainer(env,\n",
    "                       max_t=1000,\n",
    "                       max_n_episodes=2000)\n",
    "    \n",
    "    agent = trainer.train_agent(agent)"
   ]
  },
  {
   "cell_type": "code",
   "execution_count": null,
   "metadata": {},
   "outputs": [],
   "source": [
    "from trainer.trainer import AgentTrainer\n",
    "for hyperparams, Agent in agent_configs:\n",
    "    print('\\n\\nRunning',hyperparams)\n",
    "    print('Agent type',Agent)\n",
    "    agent = Agent(state_size, \n",
    "                  action_size,\n",
    "                  hyperparams)\n",
    "    \n",
    "    trainer = AgentTrainer(env,\n",
    "                       max_t=1000,\n",
    "                       max_n_episodes=2000)\n",
    "    \n",
    "    agent = trainer.train_agent(agent)"
   ]
  },
  {
   "cell_type": "code",
   "execution_count": null,
   "metadata": {
    "scrolled": false
   },
   "outputs": [],
   "source": [
    "from trainer.trainer import AgentTrainer\n",
    "for hyperparams, Agent in agent_configs:\n",
    "    print('\\n\\nRunning',hyperparams)\n",
    "    print('Agent type',Agent)\n",
    "    agent = Agent(state_size, \n",
    "                  action_size,\n",
    "                  hyperparams)\n",
    "    \n",
    "    trainer = AgentTrainer(env,\n",
    "                       max_t=1000,\n",
    "                       max_n_episodes=2000)\n",
    "    \n",
    "    agent = trainer.train_agent(agent)"
   ]
  },
  {
   "cell_type": "code",
   "execution_count": null,
   "metadata": {},
   "outputs": [],
   "source": [
    "from trainer.trainer import AgentTrainer\n",
    "for hyperparams, Agent in agent_configs:\n",
    "    print('\\n\\nRunning',hyperparams)\n",
    "    print('Agent type',Agent)\n",
    "    agent = Agent(state_size, \n",
    "                  action_size,\n",
    "                  hyperparams)\n",
    "    \n",
    "    trainer = AgentTrainer(env,\n",
    "                       max_t=1000,\n",
    "                       max_n_episodes=2000)\n",
    "    \n",
    "    agent = trainer.train_agent(agent)"
   ]
  },
  {
   "cell_type": "code",
   "execution_count": null,
   "metadata": {},
   "outputs": [],
   "source": [
    "from agents import DDPG_Agent\n",
    "agent_configs = [\n",
    "#                    ({'critic_state_leg_topology':[32,32,8],\n",
    "#                      'critic_action_leg_topology':[8],\n",
    "#                      'critic_state_action_leg_topology':[16,4],\n",
    "#                      'actor_topology':[32,32,8],\n",
    "#                      'batch_size':16,\n",
    "#                      'beta_start':0,\n",
    "#                      'beta_end':0,\n",
    "#                      'beta_factor':0,\n",
    "#                      'per_alpha':0,\n",
    "#                      'critic_lr':5e-4,\n",
    "#                      'actor_lr':5e-4,\n",
    "#                      'description':'1'},DDPG_Agent),\n",
    "#                     ({'critic_state_leg_topology':[32,16],\n",
    "#                      'critic_action_leg_topology':[],\n",
    "#                      'critic_state_action_leg_topology':[16],\n",
    "#                      'actor_topology':[32,32,8],\n",
    "#                      'batch_size':16,\n",
    "#                      'beta_start':0,\n",
    "#                      'beta_end':0,\n",
    "#                      'beta_factor':0,\n",
    "#                      'per_alpha':0,\n",
    "#                      'critic_lr':5e-4,\n",
    "#                      'actor_lr':5e-4,\n",
    "#                      'description':'Simplified batch'},DDPG_Agent),\n",
    "#                     ({'critic_state_leg_topology':[32,16],\n",
    "#                      'critic_action_leg_topology':[],\n",
    "#                      'critic_state_action_leg_topology':[16],\n",
    "#                      'actor_topology':[32,32,8],\n",
    "#                      'batch_size':16,\n",
    "#                      'beta_start':0.5,\n",
    "#                      'beta_end':1,\n",
    "#                      'beta_factor':1.00003,\n",
    "#                      'per_alpha':0.25,\n",
    "#                      'critic_lr':5e-4,\n",
    "#                      'actor_lr':5e-4,\n",
    "#                      'description':'Simplified batch x2 weak prioritization'},DDPG_Agent),\n",
    "    \n",
    "                    ({'critic_state_leg_topology':[32,16],\n",
    "                     'critic_action_leg_topology':[],\n",
    "                     'critic_state_action_leg_topology':[16],\n",
    "                     'actor_topology':[32,32,8],\n",
    "                     'batch_size':16,\n",
    "                     'beta_start':0.5,\n",
    "                     'beta_end':1,\n",
    "                     'beta_factor':1.00003,\n",
    "                     'per_alpha':0.75,\n",
    "                     'critic_lr':5e-4,\n",
    "                     'actor_lr':5e-4,\n",
    "                     'description':'Simplified batch x2 high prioritization'},DDPG_Agent),\n",
    "    \n",
    "                   ({'critic_state_leg_topology':[16,8],\n",
    "                     'critic_action_leg_topology':[],\n",
    "                     'critic_state_action_leg_topology':[8],\n",
    "                     'actor_topology':[16,8],\n",
    "                     'batch_size':32,\n",
    "                     'beta_start':0,\n",
    "                     'beta_end':0,\n",
    "                     'beta_factor':0,\n",
    "                     'per_alpha':0,\n",
    "                     'critic_lr':5e-4,\n",
    "                     'actor_lr':5e-4,\n",
    "                     'description':'Simplified v2 batch x2'},DDPG_Agent),\n",
    "    \n",
    "#                     ({'critic_state_leg_topology':[64,32,16],\n",
    "#                      'critic_action_leg_topology':[16],\n",
    "#                      'critic_state_action_leg_topology':[32],\n",
    "#                      'actor_topology':[32,32,8],\n",
    "#                      'batch_size':16,\n",
    "#                      'beta_start':0,\n",
    "#                      'beta_end':0,\n",
    "#                      'beta_factor':0,\n",
    "#                      'per_alpha':0,\n",
    "#                      'critic_lr':5e-4,\n",
    "#                      'actor_lr':5e-4,\n",
    "#                      'description':'Complex batch'},DDPG_Agent),\n",
    "]"
   ]
  },
  {
   "cell_type": "code",
   "execution_count": null,
   "metadata": {},
   "outputs": [],
   "source": [
    "from trainer.trainer import AgentTrainer\n",
    "for hyperparams, Agent in agent_configs:\n",
    "    print('\\n\\nRunning',hyperparams)\n",
    "    print('Agent type',Agent)\n",
    "    agent = Agent(state_size, \n",
    "                  action_size,\n",
    "                  hyperparams)\n",
    "    \n",
    "    trainer = AgentTrainer(env,\n",
    "                       max_t=1000,\n",
    "                       max_n_episodes=2000)\n",
    "    \n",
    "    agent = trainer.train_agent(agent)"
   ]
  },
  {
   "cell_type": "code",
   "execution_count": null,
   "metadata": {},
   "outputs": [],
   "source": [
    "agent.noise.state"
   ]
  },
  {
   "cell_type": "code",
   "execution_count": null,
   "metadata": {
    "scrolled": false
   },
   "outputs": [],
   "source": [
    "from trainer.trainer import AgentTrainer\n",
    "for hyperparams, Agent in agent_configs:\n",
    "    print('\\n\\nRunning',hyperparams)\n",
    "    print('Agent type',Agent)\n",
    "    agent = Agent(state_size, \n",
    "                  action_size,\n",
    "                  hyperparams)\n",
    "    \n",
    "    trainer = AgentTrainer(env,\n",
    "                       max_t=1000,\n",
    "                       max_n_episodes=2000)\n",
    "    \n",
    "    agent = trainer.train_agent(agent)"
   ]
  },
  {
   "cell_type": "code",
   "execution_count": null,
   "metadata": {},
   "outputs": [],
   "source": [
    "t.detach().numpy()"
   ]
  },
  {
   "cell_type": "code",
   "execution_count": null,
   "metadata": {},
   "outputs": [],
   "source": [
    "np.clip(np.array([1,2,3]),1,2)"
   ]
  },
  {
   "cell_type": "code",
   "execution_count": null,
   "metadata": {},
   "outputs": [],
   "source": []
  }
 ],
 "metadata": {
  "kernelspec": {
   "display_name": "drlnd",
   "language": "python",
   "name": "drlnd"
  },
  "language_info": {
   "codemirror_mode": {
    "name": "ipython",
    "version": 3
   },
   "file_extension": ".py",
   "mimetype": "text/x-python",
   "name": "python",
   "nbconvert_exporter": "python",
   "pygments_lexer": "ipython3",
   "version": "3.6.13"
  }
 },
 "nbformat": 4,
 "nbformat_minor": 2
}

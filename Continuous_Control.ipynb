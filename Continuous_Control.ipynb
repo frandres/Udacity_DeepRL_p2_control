{
 "cells": [
  {
   "cell_type": "markdown",
   "metadata": {},
   "source": [
    "# Continuous Control\n",
    "\n",
    "---\n",
    "\n",
    "You are welcome to use this coding environment to train your agent for the project.  Follow the instructions below to get started!\n",
    "\n",
    "### 1. Start the Environment\n",
    "\n",
    "Run the next code cell to install a few packages.  This line will take a few minutes to run!"
   ]
  },
  {
   "cell_type": "markdown",
   "metadata": {},
   "source": [
    "The environments corresponding to both versions of the environment are already saved in the Workspace and can be accessed at the file paths provided below.  \n",
    "\n",
    "Please select one of the two options below for loading the environment."
   ]
  },
  {
   "cell_type": "code",
   "execution_count": 1,
   "metadata": {},
   "outputs": [
    {
     "name": "stderr",
     "output_type": "stream",
     "text": [
      "INFO:unityagents:\n",
      "'Academy' started successfully!\n",
      "Unity Academy name: Academy\n",
      "        Number of Brains: 1\n",
      "        Number of External Brains : 1\n",
      "        Lesson number : 0\n",
      "        Reset Parameters :\n",
      "\t\tgoal_size -> 5.0\n",
      "\t\tgoal_speed -> 1.0\n",
      "Unity brain name: ReacherBrain\n",
      "        Number of Visual Observations (per agent): 0\n",
      "        Vector Observation space type: continuous\n",
      "        Vector Observation space size (per agent): 33\n",
      "        Number of stacked Vector Observation: 1\n",
      "        Vector Action space type: continuous\n",
      "        Vector Action space size (per agent): 4\n",
      "        Vector Action descriptions: , , , \n"
     ]
    }
   ],
   "source": [
    "from unityagents import UnityEnvironment\n",
    "import numpy as np\n",
    "\n",
    "# select this option to load version 1 (with a single agent) of the environment\n",
    "env = UnityEnvironment(file_name='./Reacher')\n",
    "\n",
    "# select this option to load version 2 (with 20 agents) of the environment\n",
    "# env = UnityEnvironment(file_name='/data/Reacher_Linux_NoVis/Reacher.x86_64')"
   ]
  },
  {
   "cell_type": "markdown",
   "metadata": {},
   "source": [
    "Environments contain **_brains_** which are responsible for deciding the actions of their associated agents. Here we check for the first brain available, and set it as the default brain we will be controlling from Python."
   ]
  },
  {
   "cell_type": "code",
   "execution_count": 2,
   "metadata": {},
   "outputs": [],
   "source": [
    "# get the default brain\n",
    "brain_name = env.brain_names[0]\n",
    "brain = env.brains[brain_name]"
   ]
  },
  {
   "cell_type": "markdown",
   "metadata": {},
   "source": [
    "### 2. Examine the State and Action Spaces\n",
    "\n",
    "Run the code cell below to print some information about the environment."
   ]
  },
  {
   "cell_type": "code",
   "execution_count": 3,
   "metadata": {},
   "outputs": [
    {
     "name": "stdout",
     "output_type": "stream",
     "text": [
      "Number of agents: 1\n",
      "Size of each action: 4\n",
      "There are 1 agents. Each observes a state with length: 33\n",
      "The state for the first agent looks like: [ 0.00000000e+00 -4.00000000e+00  0.00000000e+00  1.00000000e+00\n",
      " -0.00000000e+00 -0.00000000e+00 -4.37113883e-08  0.00000000e+00\n",
      "  0.00000000e+00  0.00000000e+00  0.00000000e+00  0.00000000e+00\n",
      "  0.00000000e+00  0.00000000e+00 -1.00000000e+01  0.00000000e+00\n",
      "  1.00000000e+00 -0.00000000e+00 -0.00000000e+00 -4.37113883e-08\n",
      "  0.00000000e+00  0.00000000e+00  0.00000000e+00  0.00000000e+00\n",
      "  0.00000000e+00  0.00000000e+00  5.75471878e+00 -1.00000000e+00\n",
      "  5.55726671e+00  0.00000000e+00  1.00000000e+00  0.00000000e+00\n",
      " -1.68164849e-01]\n"
     ]
    }
   ],
   "source": [
    "# reset the environment\n",
    "env_info = env.reset(train_mode=True)[brain_name]\n",
    "\n",
    "# number of agents\n",
    "num_agents = len(env_info.agents)\n",
    "print('Number of agents:', num_agents)\n",
    "\n",
    "# size of each action\n",
    "action_size = brain.vector_action_space_size\n",
    "print('Size of each action:', action_size)\n",
    "\n",
    "# examine the state space \n",
    "states = env_info.vector_observations\n",
    "state_size = states.shape[1]\n",
    "print('There are {} agents. Each observes a state with length: {}'.format(states.shape[0], state_size))\n",
    "print('The state for the first agent looks like:', states[0])"
   ]
  },
  {
   "cell_type": "markdown",
   "metadata": {},
   "source": [
    "### 3. Take Random Actions in the Environment\n",
    "\n",
    "In the next code cell, you will learn how to use the Python API to control the agent and receive feedback from the environment.\n",
    "\n",
    "Note that **in this coding environment, you will not be able to watch the agents while they are training**, and you should set `train_mode=True` to restart the environment."
   ]
  },
  {
   "cell_type": "code",
   "execution_count": 4,
   "metadata": {},
   "outputs": [
    {
     "name": "stdout",
     "output_type": "stream",
     "text": [
      "Total score (averaged over agents) this episode: 0.0\n"
     ]
    }
   ],
   "source": [
    "env_info = env.reset(train_mode=True)[brain_name]      # reset the environment    \n",
    "states = env_info.vector_observations                  # get the current state (for each agent)\n",
    "scores = np.zeros(num_agents)                          # initialize the score (for each agent)\n",
    "while True:\n",
    "    actions = np.random.randn(num_agents, action_size) # select an action (for each agent)\n",
    "    actions = np.clip(actions, -1, 1)                  # all actions between -1 and 1\n",
    "    env_info = env.step(actions)[brain_name]           # send all actions to tne environment\n",
    "    next_states = env_info.vector_observations         # get next state (for each agent)\n",
    "    rewards = env_info.rewards                         # get reward (for each agent)\n",
    "    dones = env_info.local_done                        # see if episode finished\n",
    "    scores += env_info.rewards                         # update the score (for each agent)\n",
    "    states = next_states                               # roll over states to next time step\n",
    "    if np.any(dones):                                  # exit loop if episode finished\n",
    "        break\n",
    "print('Total score (averaged over agents) this episode: {}'.format(np.mean(scores)))"
   ]
  },
  {
   "cell_type": "markdown",
   "metadata": {},
   "source": [
    "When finished, you can close the environment."
   ]
  },
  {
   "cell_type": "code",
   "execution_count": 5,
   "metadata": {},
   "outputs": [],
   "source": [
    "#env.close()"
   ]
  },
  {
   "cell_type": "markdown",
   "metadata": {},
   "source": [
    "### 4. It's Your Turn!\n",
    "\n",
    "Now it's your turn to train your own agent to solve the environment!  A few **important notes**:\n",
    "- When training the environment, set `train_mode=True`, so that the line for resetting the environment looks like the following:\n",
    "```python\n",
    "env_info = env.reset(train_mode=True)[brain_name]\n",
    "```\n",
    "- To structure your work, you're welcome to work directly in this Jupyter notebook, or you might like to start over with a new file!  You can see the list of files in the workspace by clicking on **_Jupyter_** in the top left corner of the notebook.\n",
    "- In this coding environment, you will not be able to watch the agents while they are training.  However, **_after training the agents_**, you can download the saved model weights to watch the agents on your own machine! "
   ]
  },
  {
   "cell_type": "code",
   "execution_count": 6,
   "metadata": {},
   "outputs": [],
   "source": [
    "from agents import DDPG_Agent\n",
    "agent_configs = [\n",
    "    ({'critic_state_leg_topology':[256],\n",
    "                     'critic_action_leg_topology':[],\n",
    "                     'critic_state_action_leg_topology':[128],\n",
    "                     'actor_topology':[256,128],\n",
    "                     'batch_size':128,\n",
    "                     'beta_start':0,\n",
    "                     'beta_end':0,\n",
    "                     'beta_factor':0,\n",
    "                     'per_alpha':0,\n",
    "                     'critic_lr':1e-4,\n",
    "                     'actor_lr':1e-3,\n",
    "                     'description':'Wide batch x2'},DDPG_Agent),\n",
    "    ({'critic_state_leg_topology':[256],\n",
    "                     'critic_action_leg_topology':[],\n",
    "                     'critic_state_action_leg_topology':[128],\n",
    "                     'actor_topology':[256,128],\n",
    "                     'batch_size':128,\n",
    "                     'beta_start':0.4,\n",
    "                     'beta_end':1,\n",
    "                     'beta_factor':1.001,\n",
    "                     'per_alpha':0.75,\n",
    "                     'critic_lr':1e-4,\n",
    "                     'actor_lr':1e-3,\n",
    "                     'description':'Wide batch x2'},DDPG_Agent),\n",
    "    ({'critic_state_leg_topology':[256],\n",
    "                     'critic_action_leg_topology':[],\n",
    "                     'critic_state_action_leg_topology':[128],\n",
    "                     'actor_topology':[256,128],\n",
    "                     'batch_size':128,\n",
    "                     'beta_start':0.4,\n",
    "                     'beta_end':1,\n",
    "                     'beta_factor':1.001,\n",
    "                     'per_alpha':0.5,\n",
    "                     'critic_lr':1e-4,\n",
    "                     'actor_lr':1e-3,\n",
    "                     'description':'Wide batch x2'},DDPG_Agent),\n",
    "    ({'critic_state_leg_topology':[256],\n",
    "                     'critic_action_leg_topology':[],\n",
    "                     'critic_state_action_leg_topology':[128],\n",
    "                     'actor_topology':[256,128],\n",
    "                     'batch_size':128,\n",
    "                     'beta_start':0.4,\n",
    "                     'beta_end':1,\n",
    "                     'beta_factor':1.001,\n",
    "                     'per_alpha':0.25,\n",
    "                     'critic_lr':1e-4,\n",
    "                     'actor_lr':1e-3,\n",
    "                     'description':'Wide batch x2'},DDPG_Agent),\n",
    "#                    ({'critic_state_leg_topology':[32,32,8],\n",
    "#                      'critic_action_leg_topology':[8],\n",
    "#                      'critic_state_action_leg_topology':[16,4],\n",
    "#                      'actor_topology':[32,32,8],\n",
    "#                      'batch_size':16,\n",
    "#                      'beta_start':0,\n",
    "#                      'beta_end':0,\n",
    "#                      'beta_factor':0,\n",
    "#                      'per_alpha':0,\n",
    "#                      'critic_lr':5e-4,\n",
    "#                      'actor_lr':5e-4,\n",
    "#                      'description':'1'},DDPG_Agent),\n",
    "#                    ({'critic_state_leg_topology':[32,8],\n",
    "#                      'critic_action_leg_topology':[],\n",
    "#                      'critic_state_action_leg_topology':[16],\n",
    "#                      'actor_topology':[32,8],\n",
    "#                      'batch_size':128,\n",
    "#                      'beta_start':0,\n",
    "#                      'beta_end':0,\n",
    "#                      'beta_factor':0,\n",
    "#                      'per_alpha':0,\n",
    "#                      'critic_lr':5e-4,\n",
    "#                      'actor_lr':5e-4,\n",
    "#                      'description':'Really simple'},DDPG_Agent),\n",
    "#                     ({'critic_state_leg_topology':[32,16],\n",
    "#                      'critic_action_leg_topology':[],\n",
    "#                      'critic_state_action_leg_topology':[16],\n",
    "#                      'actor_topology':[32,32,8],\n",
    "#                      'batch_size':16,\n",
    "#                      'beta_start':0,\n",
    "#                      'beta_end':0,\n",
    "#                      'beta_factor':0,\n",
    "#                      'per_alpha':0,\n",
    "#                      'critic_lr':5e-4,\n",
    "#                      'actor_lr':5e-4,\n",
    "#                      'description':'Simplified batch'},DDPG_Agent),\n",
    "                    ({'critic_state_leg_topology':[128,],\n",
    "                     'critic_action_leg_topology':[],\n",
    "                     'critic_state_action_leg_topology':[64],\n",
    "                     'actor_topology':[128,64],\n",
    "                     'batch_size':64,\n",
    "                     'beta_start':0,\n",
    "                     'beta_end':0,\n",
    "                     'beta_factor':0,\n",
    "                     'per_alpha':0,\n",
    "                     'critic_lr':5e-4,\n",
    "                     'actor_lr':5e-4,\n",
    "                     'description':'Very wide x2'},DDPG_Agent),\n",
    "#                     ({'critic_state_leg_topology':[64,32,16],\n",
    "#                      'critic_action_leg_topology':[16],\n",
    "#                      'critic_state_action_leg_topology':[32],\n",
    "#                      'actor_topology':[32,32,8],\n",
    "#                      'batch_size':16,\n",
    "#                      'beta_start':0,\n",
    "#                      'beta_end':0,\n",
    "#                      'beta_factor':0,\n",
    "#                      'per_alpha':0,\n",
    "#                      'critic_lr':5e-4,\n",
    "#                      'actor_lr':5e-4,\n",
    "#                      'description':'Complex batch'},DDPG_Agent),\n",
    "                    \n",
    "]"
   ]
  },
  {
   "cell_type": "code",
   "execution_count": null,
   "metadata": {},
   "outputs": [
    {
     "name": "stdout",
     "output_type": "stream",
     "text": [
      "\n",
      "\n",
      "Running {'critic_state_leg_topology': [256], 'critic_action_leg_topology': [], 'critic_state_action_leg_topology': [128], 'actor_topology': [256, 128], 'batch_size': 128, 'beta_start': 0, 'beta_end': 0, 'beta_factor': 0, 'per_alpha': 0, 'critic_lr': 0.0001, 'actor_lr': 0.001, 'description': 'Wide batch x2'}\n",
      "Agent type <class 'agents.ddpg_agent.agent.Agent'>\n",
      "theta: 0.3\n",
      "theta: 0.29985\n",
      "Episode 1\tAverage Score: 1.12theta: 0.299700075\n",
      "Episode 2\tAverage Score: 0.75theta: 0.2995502249625\n",
      "Episode 3\tAverage Score: 0.74theta: 0.2994004498500188\n",
      "Episode 4\tAverage Score: 0.65theta: 0.2992507496250938\n",
      "Episode 5\tAverage Score: 0.59theta: 0.29910112425028124\n",
      "Episode 6\tAverage Score: 0.69theta: 0.2989515736881561\n",
      "Episode 7\tAverage Score: 0.70theta: 0.29880209790131207\n",
      "Episode 8\tAverage Score: 0.73theta: 0.29865269685236145\n",
      "Episode 9\tAverage Score: 0.68theta: 0.2985033705039353\n",
      "Episode 10\tAverage Score: 0.79theta: 0.29835411881868334\n",
      "Episode 11\tAverage Score: 0.88theta: 0.29820494175927403\n",
      "Episode 12\tAverage Score: 0.91theta: 0.2980558392883944\n",
      "Episode 13\tAverage Score: 0.90theta: 0.29790681136875025\n",
      "Episode 14\tAverage Score: 0.90theta: 0.29775785796306586\n",
      "Episode 15\tAverage Score: 0.99theta: 0.29760897903408434\n",
      "Episode 16\tAverage Score: 0.96theta: 0.2974601745445673\n",
      "Episode 17\tAverage Score: 0.93theta: 0.297311444457295\n",
      "Episode 18\tAverage Score: 0.94theta: 0.2971627887350664\n",
      "Episode 19\tAverage Score: 0.91theta: 0.2970142073406989\n",
      "Episode 20\tAverage Score: 0.95theta: 0.2968657002370286\n",
      "Episode 21\tAverage Score: 0.98theta: 0.29671726738691007\n",
      "Episode 22\tAverage Score: 1.01theta: 0.2965689087532166\n",
      "Episode 23\tAverage Score: 0.99theta: 0.29642062429884003\n",
      "Episode 24\tAverage Score: 0.95theta: 0.29627241398669063\n",
      "Episode 25\tAverage Score: 0.94theta: 0.2961242777796973\n",
      "Episode 26\tAverage Score: 0.92theta: 0.29597621564080745\n",
      "Episode 27\tAverage Score: 0.90theta: 0.29582822753298704\n",
      "Episode 28\tAverage Score: 0.89theta: 0.2956803134192206\n",
      "Episode 29\tAverage Score: 0.87theta: 0.295532473262511\n",
      "Episode 30\tAverage Score: 0.87theta: 0.2953847070258797\n",
      "Episode 31\tAverage Score: 0.88theta: 0.2952370146723668\n",
      "Episode 32\tAverage Score: 0.89theta: 0.2950893961650306\n",
      "Episode 33\tAverage Score: 0.87theta: 0.2949418514669481\n",
      "Episode 34\tAverage Score: 0.91theta: 0.29479438054121465\n",
      "Episode 35\tAverage Score: 0.90theta: 0.2946469833509441\n"
     ]
    }
   ],
   "source": [
    "from trainer.trainer import AgentTrainer\n",
    "for hyperparams, Agent in agent_configs:\n",
    "    print('\\n\\nRunning',hyperparams)\n",
    "    print('Agent type',Agent)\n",
    "    agent = Agent(state_size, \n",
    "                  action_size,\n",
    "                  hyperparams)\n",
    "    \n",
    "    trainer = AgentTrainer(env,\n",
    "                       max_t=1000,\n",
    "                       max_n_episodes=2000)\n",
    "    \n",
    "    agent = trainer.train_agent(agent)"
   ]
  },
  {
   "cell_type": "code",
   "execution_count": null,
   "metadata": {},
   "outputs": [],
   "source": [
    "from trainer.trainer import AgentTrainer\n",
    "for hyperparams, Agent in agent_configs:\n",
    "    print('\\n\\nRunning',hyperparams)\n",
    "    print('Agent type',Agent)\n",
    "    agent = Agent(state_size, \n",
    "                  action_size,\n",
    "                  hyperparams)\n",
    "    \n",
    "    trainer = AgentTrainer(env,\n",
    "                       max_t=1000,\n",
    "                       max_n_episodes=2000)\n",
    "    \n",
    "    agent = trainer.train_agent(agent)"
   ]
  },
  {
   "cell_type": "code",
   "execution_count": null,
   "metadata": {
    "scrolled": false
   },
   "outputs": [],
   "source": [
    "from trainer.trainer import AgentTrainer\n",
    "for hyperparams, Agent in agent_configs:\n",
    "    print('\\n\\nRunning',hyperparams)\n",
    "    print('Agent type',Agent)\n",
    "    agent = Agent(state_size, \n",
    "                  action_size,\n",
    "                  hyperparams)\n",
    "    \n",
    "    trainer = AgentTrainer(env,\n",
    "                       max_t=1000,\n",
    "                       max_n_episodes=2000)\n",
    "    \n",
    "    agent = trainer.train_agent(agent)"
   ]
  },
  {
   "cell_type": "code",
   "execution_count": null,
   "metadata": {},
   "outputs": [],
   "source": [
    "from trainer.trainer import AgentTrainer\n",
    "for hyperparams, Agent in agent_configs:\n",
    "    print('\\n\\nRunning',hyperparams)\n",
    "    print('Agent type',Agent)\n",
    "    agent = Agent(state_size, \n",
    "                  action_size,\n",
    "                  hyperparams)\n",
    "    \n",
    "    trainer = AgentTrainer(env,\n",
    "                       max_t=1000,\n",
    "                       max_n_episodes=2000)\n",
    "    \n",
    "    agent = trainer.train_agent(agent)"
   ]
  },
  {
   "cell_type": "code",
   "execution_count": null,
   "metadata": {},
   "outputs": [],
   "source": [
    "from agents import DDPG_Agent\n",
    "agent_configs = [\n",
    "#                    ({'critic_state_leg_topology':[32,32,8],\n",
    "#                      'critic_action_leg_topology':[8],\n",
    "#                      'critic_state_action_leg_topology':[16,4],\n",
    "#                      'actor_topology':[32,32,8],\n",
    "#                      'batch_size':16,\n",
    "#                      'beta_start':0,\n",
    "#                      'beta_end':0,\n",
    "#                      'beta_factor':0,\n",
    "#                      'per_alpha':0,\n",
    "#                      'critic_lr':5e-4,\n",
    "#                      'actor_lr':5e-4,\n",
    "#                      'description':'1'},DDPG_Agent),\n",
    "#                     ({'critic_state_leg_topology':[32,16],\n",
    "#                      'critic_action_leg_topology':[],\n",
    "#                      'critic_state_action_leg_topology':[16],\n",
    "#                      'actor_topology':[32,32,8],\n",
    "#                      'batch_size':16,\n",
    "#                      'beta_start':0,\n",
    "#                      'beta_end':0,\n",
    "#                      'beta_factor':0,\n",
    "#                      'per_alpha':0,\n",
    "#                      'critic_lr':5e-4,\n",
    "#                      'actor_lr':5e-4,\n",
    "#                      'description':'Simplified batch'},DDPG_Agent),\n",
    "#                     ({'critic_state_leg_topology':[32,16],\n",
    "#                      'critic_action_leg_topology':[],\n",
    "#                      'critic_state_action_leg_topology':[16],\n",
    "#                      'actor_topology':[32,32,8],\n",
    "#                      'batch_size':16,\n",
    "#                      'beta_start':0.5,\n",
    "#                      'beta_end':1,\n",
    "#                      'beta_factor':1.00003,\n",
    "#                      'per_alpha':0.25,\n",
    "#                      'critic_lr':5e-4,\n",
    "#                      'actor_lr':5e-4,\n",
    "#                      'description':'Simplified batch x2 weak prioritization'},DDPG_Agent),\n",
    "    \n",
    "                    ({'critic_state_leg_topology':[32,16],\n",
    "                     'critic_action_leg_topology':[],\n",
    "                     'critic_state_action_leg_topology':[16],\n",
    "                     'actor_topology':[32,32,8],\n",
    "                     'batch_size':16,\n",
    "                     'beta_start':0.5,\n",
    "                     'beta_end':1,\n",
    "                     'beta_factor':1.00003,\n",
    "                     'per_alpha':0.75,\n",
    "                     'critic_lr':5e-4,\n",
    "                     'actor_lr':5e-4,\n",
    "                     'description':'Simplified batch x2 high prioritization'},DDPG_Agent),\n",
    "    \n",
    "                   ({'critic_state_leg_topology':[16,8],\n",
    "                     'critic_action_leg_topology':[],\n",
    "                     'critic_state_action_leg_topology':[8],\n",
    "                     'actor_topology':[16,8],\n",
    "                     'batch_size':32,\n",
    "                     'beta_start':0,\n",
    "                     'beta_end':0,\n",
    "                     'beta_factor':0,\n",
    "                     'per_alpha':0,\n",
    "                     'critic_lr':5e-4,\n",
    "                     'actor_lr':5e-4,\n",
    "                     'description':'Simplified v2 batch x2'},DDPG_Agent),\n",
    "    \n",
    "#                     ({'critic_state_leg_topology':[64,32,16],\n",
    "#                      'critic_action_leg_topology':[16],\n",
    "#                      'critic_state_action_leg_topology':[32],\n",
    "#                      'actor_topology':[32,32,8],\n",
    "#                      'batch_size':16,\n",
    "#                      'beta_start':0,\n",
    "#                      'beta_end':0,\n",
    "#                      'beta_factor':0,\n",
    "#                      'per_alpha':0,\n",
    "#                      'critic_lr':5e-4,\n",
    "#                      'actor_lr':5e-4,\n",
    "#                      'description':'Complex batch'},DDPG_Agent),\n",
    "]"
   ]
  },
  {
   "cell_type": "code",
   "execution_count": null,
   "metadata": {},
   "outputs": [],
   "source": [
    "from trainer.trainer import AgentTrainer\n",
    "for hyperparams, Agent in agent_configs:\n",
    "    print('\\n\\nRunning',hyperparams)\n",
    "    print('Agent type',Agent)\n",
    "    agent = Agent(state_size, \n",
    "                  action_size,\n",
    "                  hyperparams)\n",
    "    \n",
    "    trainer = AgentTrainer(env,\n",
    "                       max_t=1000,\n",
    "                       max_n_episodes=2000)\n",
    "    \n",
    "    agent = trainer.train_agent(agent)"
   ]
  },
  {
   "cell_type": "code",
   "execution_count": null,
   "metadata": {},
   "outputs": [],
   "source": [
    "agent.noise.state"
   ]
  },
  {
   "cell_type": "code",
   "execution_count": null,
   "metadata": {
    "scrolled": false
   },
   "outputs": [],
   "source": [
    "from trainer.trainer import AgentTrainer\n",
    "for hyperparams, Agent in agent_configs:\n",
    "    print('\\n\\nRunning',hyperparams)\n",
    "    print('Agent type',Agent)\n",
    "    agent = Agent(state_size, \n",
    "                  action_size,\n",
    "                  hyperparams)\n",
    "    \n",
    "    trainer = AgentTrainer(env,\n",
    "                       max_t=1000,\n",
    "                       max_n_episodes=2000)\n",
    "    \n",
    "    agent = trainer.train_agent(agent)"
   ]
  },
  {
   "cell_type": "code",
   "execution_count": null,
   "metadata": {},
   "outputs": [],
   "source": [
    "t.detach().numpy()"
   ]
  },
  {
   "cell_type": "code",
   "execution_count": null,
   "metadata": {},
   "outputs": [],
   "source": [
    "np.clip(np.array([1,2,3]),1,2)"
   ]
  },
  {
   "cell_type": "code",
   "execution_count": null,
   "metadata": {},
   "outputs": [],
   "source": []
  }
 ],
 "metadata": {
  "kernelspec": {
   "display_name": "drlnd",
   "language": "python",
   "name": "drlnd"
  },
  "language_info": {
   "codemirror_mode": {
    "name": "ipython",
    "version": 3
   },
   "file_extension": ".py",
   "mimetype": "text/x-python",
   "name": "python",
   "nbconvert_exporter": "python",
   "pygments_lexer": "ipython3",
   "version": "3.6.13"
  }
 },
 "nbformat": 4,
 "nbformat_minor": 2
}
